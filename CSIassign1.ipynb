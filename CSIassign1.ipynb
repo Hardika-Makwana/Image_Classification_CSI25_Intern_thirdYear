{
 "cells": [
  {
   "cell_type": "code",
   "execution_count": 16,
   "id": "d4b04851-7444-4ce2-83cf-871bda1ba44d",
   "metadata": {},
   "outputs": [
    {
     "name": "stdin",
     "output_type": "stream",
     "text": [
      "Enter the number of lines :  5\n"
     ]
    },
    {
     "name": "stdout",
     "output_type": "stream",
     "text": [
      "\n",
      "*\n",
      "**\n",
      "***\n",
      "****\n",
      "*****\n",
      "Upper triangle\n",
      "\n",
      "*****\n",
      "****\n",
      "***\n",
      "**\n",
      "*\n",
      "Lower triangle\n",
      "\n",
      "    *\n",
      "   ***\n",
      "  *****\n",
      " *******\n",
      "*********\n",
      "Pyramid\n"
     ]
    }
   ],
   "source": [
    "i = int(input(\"Enter the number of lines : \"))\n",
    "\n",
    "#define the functions for upper traingle , lower triangle and pyramid\n",
    "def up_triangle(n):\n",
    "    for j in range(n+1) :\n",
    "        print('*'*j)\n",
    "    print(\"Upper triangle\\n\")\n",
    "def low_triangle(n):\n",
    "    for k in range(n,0,-1) :\n",
    "        print('*'*k)\n",
    "    print(\"Lower triangle\\n\")\n",
    "def pyra_mid(n):\n",
    "    for line in range(1, n + 1):\n",
    "        space = ' ' * (n - line)\n",
    "        star = '*' * (2 * line - 1)\n",
    "        print(space + star)\n",
    "    print(\"Pyramid\")\n",
    "#Call the functions\n",
    "up_triangle(i)\n",
    "low_triangle(i)\n",
    "pyra_mid(i)"
   ]
  }
 ],
 "metadata": {
  "kernelspec": {
   "display_name": "Python 3 (ipykernel)",
   "language": "python",
   "name": "python3"
  },
  "language_info": {
   "codemirror_mode": {
    "name": "ipython",
    "version": 3
   },
   "file_extension": ".py",
   "mimetype": "text/x-python",
   "name": "python",
   "nbconvert_exporter": "python",
   "pygments_lexer": "ipython3",
   "version": "3.10.8"
  }
 },
 "nbformat": 4,
 "nbformat_minor": 5
}
