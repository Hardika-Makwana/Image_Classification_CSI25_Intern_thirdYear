{
 "cells": [
  {
   "cell_type": "code",
   "execution_count": 9,
   "id": "f0684ef2-5de7-4188-9fed-be4a086af6d1",
   "metadata": {},
   "outputs": [
    {
     "name": "stdout",
     "output_type": "stream",
     "text": [
      "      price  area  bedrooms  bathrooms  stories mainroad guestroom basement  \\\n",
      "0  13300000  7420         4          2        3      yes        no       no   \n",
      "1  12250000  8960         4          4        4      yes        no       no   \n",
      "2  12250000  9960         3          2        2      yes        no      yes   \n",
      "3  12215000  7500         4          2        2      yes        no      yes   \n",
      "4  11410000  7420         4          1        2      yes       yes      yes   \n",
      "\n",
      "  hotwaterheating airconditioning  parking prefarea furnishingstatus  \n",
      "0              no             yes        2      yes        furnished  \n",
      "1              no             yes        3       no        furnished  \n",
      "2              no              no        2      yes   semi-furnished  \n",
      "3              no             yes        3      yes        furnished  \n",
      "4              no             yes        2       no        furnished  \n",
      "\n",
      "Predictions for 5 test samples:\n",
      "   area  ActualPrice  PredictedPrice\n",
      "0  5900      4060000    5.024060e+06\n",
      "1  6500      6650000    5.279498e+06\n",
      "2  4040      3710000    4.232203e+06\n",
      "3  5000      6440000    4.640903e+06\n",
      "4  3960      2800000    4.198144e+06\n"
     ]
    }
   ],
   "source": [
    "import pandas as pd\n",
    "from sklearn.linear_model import LinearRegression\n",
    "from sklearn.model_selection import train_test_split\n",
    "\n",
    "#  Load your uploaded file (adjust path if needed)\n",
    "housing = pd.read_csv(r\"C:\\Users\\Hardika\\Downloads\\Housing.csv\")\n",
    "\n",
    "# Check first few rows\n",
    "print(housing.head())\n",
    "\n",
    "#  Pick feature and target\n",
    "feature = 'area'\n",
    "target = 'price'\n",
    "\n",
    "# Fill missing if any\n",
    "housing[feature] = housing[feature].fillna(housing[feature].median())\n",
    "housing[target] = housing[target].fillna(housing[target].median())\n",
    "\n",
    "#  Split into train/test\n",
    "X = housing[[feature]]\n",
    "y = housing[target]\n",
    "\n",
    "X_train, X_test, y_train, y_test = train_test_split(X, y, test_size=0.2, random_state=42)\n",
    "\n",
    "#  Train Simple Linear Regression\n",
    "model = LinearRegression()\n",
    "model.fit(X_train, y_train)\n",
    "\n",
    "#  Predict 5 test samples\n",
    "X_test_sample = X_test.head(5)\n",
    "predictions = model.predict(X_test_sample)\n",
    "\n",
    "#  Show results\n",
    "results = pd.DataFrame({\n",
    "    feature: X_test_sample[feature].values,\n",
    "    'ActualPrice': y_test.head(5).values,\n",
    "    'PredictedPrice': predictions\n",
    "})\n",
    "\n",
    "print(\"\\nPredictions for 5 test samples:\")\n",
    "print(results)\n",
    "\n",
    "\n"
   ]
  },
  {
   "cell_type": "code",
   "execution_count": null,
   "id": "0a4105f4-3b3c-413c-84cd-ececfeb3c992",
   "metadata": {},
   "outputs": [],
   "source": []
  }
 ],
 "metadata": {
  "kernelspec": {
   "display_name": "Python 3 (ipykernel)",
   "language": "python",
   "name": "python3"
  },
  "language_info": {
   "codemirror_mode": {
    "name": "ipython",
    "version": 3
   },
   "file_extension": ".py",
   "mimetype": "text/x-python",
   "name": "python",
   "nbconvert_exporter": "python",
   "pygments_lexer": "ipython3",
   "version": "3.10.8"
  }
 },
 "nbformat": 4,
 "nbformat_minor": 5
}
